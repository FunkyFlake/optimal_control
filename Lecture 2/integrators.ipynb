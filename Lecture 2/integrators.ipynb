{
 "cells": [
  {
   "cell_type": "code",
   "execution_count": 17,
   "metadata": {},
   "outputs": [
    {
     "name": "stderr",
     "output_type": "stream",
     "text": [
      "\u001b[32m\u001b[1m  Activating\u001b[22m\u001b[39m project at `c:\\Users\\janla\\Documents\\optimal_control`\n"
     ]
    }
   ],
   "source": [
    "import Pkg; Pkg.activate(joinpath(@__DIR__,\"..\")); Pkg.instantiate()"
   ]
  },
  {
   "cell_type": "code",
   "execution_count": 18,
   "metadata": {},
   "outputs": [],
   "source": [
    "using LinearAlgebra\n",
    "using PyPlot\n",
    "using ForwardDiff"
   ]
  },
  {
   "cell_type": "code",
   "execution_count": 19,
   "metadata": {},
   "outputs": [
    {
     "data": {
      "text/plain": [
       "pendulum_dynamics (generic function with 1 method)"
      ]
     },
     "metadata": {},
     "output_type": "display_data"
    }
   ],
   "source": [
    "function pendulum_dynamics(x)\n",
    "    l = 1.0\n",
    "    g = 9.81\n",
    "    \n",
    "    θ = x[1]\n",
    "    θ̇ = x[2]\n",
    "    \n",
    "    θ̈ = -(g/l)*sin(θ)\n",
    "    \n",
    "    return [θ̇; θ̈]\n",
    "end"
   ]
  },
  {
   "cell_type": "code",
   "execution_count": 20,
   "metadata": {},
   "outputs": [
    {
     "data": {
      "text/plain": [
       "pendulum_forward_euler (generic function with 1 method)"
      ]
     },
     "metadata": {},
     "output_type": "display_data"
    }
   ],
   "source": [
    "function pendulum_forward_euler(fun, x0, Tf, h)    \n",
    "    t = Array(range(0,Tf,step=h))\n",
    "    \n",
    "    x_hist = zeros(length(x0),length(t))\n",
    "    x_hist[:,1] .= x0\n",
    "    \n",
    "    for k = 1:(length(t)-1)\n",
    "        x_hist[:,k+1] .= x_hist[:,k] + h*fun(x_hist[:,k])\n",
    "    end\n",
    "    \n",
    "    return x_hist, t\n",
    "end"
   ]
  },
  {
   "cell_type": "code",
   "execution_count": 44,
   "metadata": {},
   "outputs": [
    {
     "data": {
      "text/plain": [
       "1-element Vector{PyCall.PyObject}:\n",
       " PyObject <matplotlib.lines.Line2D object at 0x0000025F3C060880>"
      ]
     },
     "metadata": {},
     "output_type": "display_data"
    }
   ],
   "source": [
    "x0 = [.1; 0]\n",
    "x_hist1, t_hist1 = pendulum_forward_euler(pendulum_dynamics, x0, 5, .1)\n",
    "plot(t_hist1, x_hist1[1,:])"
   ]
  },
  {
   "cell_type": "code",
   "execution_count": 27,
   "metadata": {},
   "outputs": [
    {
     "data": {
      "text/plain": [
       "pendulum_euler_Ad (generic function with 1 method)"
      ]
     },
     "metadata": {},
     "output_type": "display_data"
    }
   ],
   "source": [
    "function pendulum_euler_Ad(x0, h)\n",
    "    g = 9.81\n",
    "    Ad = [1 h; -g*h*cos(x0[1]) 1]\n",
    "end"
   ]
  },
  {
   "cell_type": "code",
   "execution_count": 28,
   "metadata": {},
   "outputs": [
    {
     "data": {
      "text/plain": [
       "2-element Vector{ComplexF64}:\n",
       " 1.0 - 0.0031320919526731652im\n",
       " 1.0 + 0.0031320919526731652im"
      ]
     },
     "metadata": {},
     "output_type": "display_data"
    }
   ],
   "source": [
    "eigvals(pendulum_euler_Ad(0, 0.001))"
   ]
  },
  {
   "cell_type": "code",
   "execution_count": 29,
   "metadata": {},
   "outputs": [
    {
     "data": {
      "text/plain": [
       "1-element Vector{PyCall.PyObject}:\n",
       " PyObject <matplotlib.lines.Line2D object at 0x0000025F3C01B0D0>"
      ]
     },
     "metadata": {},
     "output_type": "display_data"
    }
   ],
   "source": [
    "eignorm = zeros(100)\n",
    "h = LinRange(0,0.1,100)\n",
    "for k = 1:length(eignorm)\n",
    "    eignorm[k] = max(norm.(eigvals(pendulum_euler_Ad([0;0], h[k])))...)\n",
    "end\n",
    "plot(h,eignorm)"
   ]
  },
  {
   "cell_type": "code",
   "execution_count": 30,
   "metadata": {},
   "outputs": [
    {
     "data": {
      "text/plain": [
       "fd_pendulum_rk4 (generic function with 1 method)"
      ]
     },
     "metadata": {},
     "output_type": "display_data"
    }
   ],
   "source": [
    "function fd_pendulum_rk4(xk, h)\n",
    "    f1 = pendulum_dynamics(xk)\n",
    "    f2 = pendulum_dynamics(xk + 0.5*h*f1)\n",
    "    f3 = pendulum_dynamics(xk + 0.5*h*f2)\n",
    "    f4 = pendulum_dynamics(xk + h*f3)\n",
    "    return xk + (h/6.0)*(f1 + 2*f2 + 2*f3 + f4)\n",
    "end"
   ]
  },
  {
   "cell_type": "code",
   "execution_count": 31,
   "metadata": {},
   "outputs": [
    {
     "data": {
      "text/plain": [
       "pendulum_rk4 (generic function with 1 method)"
      ]
     },
     "metadata": {},
     "output_type": "display_data"
    }
   ],
   "source": [
    "function pendulum_rk4(fun, x0, Tf, h)    \n",
    "    t = Array(range(0,Tf,step=h))\n",
    "    \n",
    "    x_hist = zeros(length(x0),length(t))\n",
    "    x_hist[:,1] .= x0\n",
    "    \n",
    "    for k = 1:(length(t)-1)\n",
    "        x_hist[:,k+1] .= fd_pendulum_rk4(x_hist[:,k], h)\n",
    "    end\n",
    "    \n",
    "    return x_hist, t\n",
    "end"
   ]
  },
  {
   "cell_type": "code",
   "execution_count": 32,
   "metadata": {},
   "outputs": [
    {
     "data": {
      "text/plain": [
       "1-element Vector{PyCall.PyObject}:\n",
       " PyObject <matplotlib.lines.Line2D object at 0x0000025F3C01B370>"
      ]
     },
     "metadata": {},
     "output_type": "display_data"
    }
   ],
   "source": [
    "x0 = [.1; 0]\n",
    "x_hist2, t_hist2 = pendulum_rk4(pendulum_dynamics, x0, 10, 0.1)\n",
    "plot(t_hist2, x_hist2[1,:])"
   ]
  },
  {
   "cell_type": "code",
   "execution_count": 33,
   "metadata": {},
   "outputs": [
    {
     "data": {
      "text/plain": [
       "2-element Vector{Float64}:\n",
       " 0.999993524288704\n",
       " 0.999993524288704"
      ]
     },
     "metadata": {},
     "output_type": "display_data"
    }
   ],
   "source": [
    "using ForwardDiff\n",
    "Ad = ForwardDiff.jacobian(x -> fd_pendulum_rk4(x, 0.1), [0; 0])\n",
    "norm.(eigvals(Ad))"
   ]
  },
  {
   "cell_type": "code",
   "execution_count": 34,
   "metadata": {},
   "outputs": [
    {
     "data": {
      "text/plain": [
       "1-element Vector{PyCall.PyObject}:\n",
       " PyObject <matplotlib.lines.Line2D object at 0x0000025F3C01B610>"
      ]
     },
     "metadata": {},
     "output_type": "display_data"
    }
   ],
   "source": [
    "eignorm = zeros(100)\n",
    "h = LinRange(0,1,100)\n",
    "for k = 1:length(eignorm)\n",
    "    eignorm[k] = max(norm.(eigvals(ForwardDiff.jacobian(x -> fd_pendulum_rk4(x, h[k]), [0; 0])))...)\n",
    "end\n",
    "plot(h,eignorm)"
   ]
  },
  {
   "cell_type": "code",
   "execution_count": 35,
   "metadata": {},
   "outputs": [
    {
     "data": {
      "text/plain": [
       "pendulum_backward_euler (generic function with 1 method)"
      ]
     },
     "metadata": {},
     "output_type": "display_data"
    }
   ],
   "source": [
    "function pendulum_backward_euler(fun, x0, Tf, dt)\n",
    "    t = Array(range(0,Tf,step=dt))\n",
    "    \n",
    "    x_hist = zeros(length(x0),length(t))\n",
    "    x_hist[:,1] .= x0\n",
    "    \n",
    "    for k = 1:(length(t)-1)\n",
    "        e = 1\n",
    "        x_hist[:,k+1] = x_hist[:,k]\n",
    "        while e > 1e-8\n",
    "            xn = x_hist[:,k] + dt.*fun(x_hist[:,k+1])\n",
    "            e = norm(xn - x_hist[:,k+1])\n",
    "            x_hist[:,k+1] .= xn\n",
    "        end\n",
    "    end\n",
    "    \n",
    "    return x_hist, t\n",
    "end"
   ]
  },
  {
   "cell_type": "code",
   "execution_count": 36,
   "metadata": {},
   "outputs": [
    {
     "data": {
      "text/plain": [
       "1-element Vector{PyCall.PyObject}:\n",
       " PyObject <matplotlib.lines.Line2D object at 0x0000025F3C01B880>"
      ]
     },
     "metadata": {},
     "output_type": "display_data"
    }
   ],
   "source": [
    "x0 = [.1; 0]\n",
    "x_hist3, t_hist3 = pendulum_backward_euler(pendulum_dynamics, x0, 10, 0.01)\n",
    "plot(t_hist3, x_hist3[1,:])"
   ]
  },
  {
   "cell_type": "code",
   "execution_count": null,
   "metadata": {},
   "outputs": [],
   "source": []
  }
 ],
 "metadata": {
  "kernelspec": {
   "display_name": "Julia 1.9.0",
   "language": "julia",
   "name": "julia-1.9"
  },
  "language_info": {
   "file_extension": ".jl",
   "mimetype": "application/julia",
   "name": "julia",
   "version": "1.9.0"
  }
 },
 "nbformat": 4,
 "nbformat_minor": 4
}
